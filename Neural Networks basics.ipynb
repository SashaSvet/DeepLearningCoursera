{
 "cells": [
  {
   "cell_type": "code",
   "execution_count": 1,
   "metadata": {
    "ExecuteTime": {
     "end_time": "2020-08-24T11:32:20.311866Z",
     "start_time": "2020-08-24T11:32:20.306880Z"
    }
   },
   "outputs": [],
   "source": [
    "import numpy as np "
   ]
  },
  {
   "cell_type": "markdown",
   "metadata": {},
   "source": [
    "## Forward propagation"
   ]
  },
  {
   "cell_type": "code",
   "execution_count": 64,
   "metadata": {
    "ExecuteTime": {
     "end_time": "2020-08-24T12:46:04.057472Z",
     "start_time": "2020-08-24T12:46:04.044510Z"
    }
   },
   "outputs": [
    {
     "data": {
      "text/plain": [
       "0.9999877116507955"
      ]
     },
     "execution_count": 64,
     "metadata": {},
     "output_type": "execute_result"
    }
   ],
   "source": [
    "\"\"\"Forward propagation example\"\"\"\n",
    "\n",
    "def simpleNN(data,weights):\n",
    "    \"\"\"Input : data - list / numpy array\n",
    "       Weights : dictionary containing the nodes and their weights\"\"\"\n",
    "    # Please note this is a very simple example \n",
    "    \n",
    "    # Nodes calculation with tanh as activation function\n",
    "    node_0 = np.tanh(np.dot(data,weights['node_0']).sum())\n",
    "    node_1 = np.tanh(np.dot(data,weights['node_1']).sum())\n",
    "    \n",
    "    # Hidden layer\n",
    "    hidden_layer = np.array([node_0, node_1])\n",
    "\n",
    "    # Output\n",
    "    output = np.tanh(np.dot(hidden_layer,weights['output']).sum())\n",
    "    \n",
    "    return output\n",
    "    \n",
    "    \n",
    "data = np.array([1,3])\n",
    "weights = {'node_0': np.array([1,6]),'node_1': np.array([-1,5]),'output': np.array([2,4])}\n",
    "\n",
    "simpleNN(data,weights)"
   ]
  }
 ],
 "metadata": {
  "kernelspec": {
   "display_name": "Python 3",
   "language": "python",
   "name": "python3"
  },
  "language_info": {
   "codemirror_mode": {
    "name": "ipython",
    "version": 3
   },
   "file_extension": ".py",
   "mimetype": "text/x-python",
   "name": "python",
   "nbconvert_exporter": "python",
   "pygments_lexer": "ipython3",
   "version": "3.7.6"
  },
  "toc": {
   "base_numbering": 1,
   "nav_menu": {},
   "number_sections": true,
   "sideBar": true,
   "skip_h1_title": false,
   "title_cell": "Table of Contents",
   "title_sidebar": "Contents",
   "toc_cell": false,
   "toc_position": {},
   "toc_section_display": true,
   "toc_window_display": false
  },
  "varInspector": {
   "cols": {
    "lenName": 16,
    "lenType": 16,
    "lenVar": 40
   },
   "kernels_config": {
    "python": {
     "delete_cmd_postfix": "",
     "delete_cmd_prefix": "del ",
     "library": "var_list.py",
     "varRefreshCmd": "print(var_dic_list())"
    },
    "r": {
     "delete_cmd_postfix": ") ",
     "delete_cmd_prefix": "rm(",
     "library": "var_list.r",
     "varRefreshCmd": "cat(var_dic_list()) "
    }
   },
   "types_to_exclude": [
    "module",
    "function",
    "builtin_function_or_method",
    "instance",
    "_Feature"
   ],
   "window_display": false
  }
 },
 "nbformat": 4,
 "nbformat_minor": 4
}
